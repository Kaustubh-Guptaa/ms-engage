{
  "nbformat": 4,
  "nbformat_minor": 0,
  "metadata": {
    "colab": {
      "name": "MS_Final.ipynb",
      "provenance": [],
      "collapsed_sections": []
    },
    "kernelspec": {
      "name": "python3",
      "display_name": "Python 3"
    },
    "language_info": {
      "name": "python"
    }
  },
  "cells": [
    {
      "cell_type": "code",
      "execution_count": null,
      "metadata": {
        "id": "ECZ9RRJaNtek"
      },
      "outputs": [],
      "source": [
        "import pandas as pd\n",
        "import numpy as np\n",
        "import seaborn as sns\n",
        "import matplotlib.pyplot as plt\n",
        "import math\n",
        "\n",
        "cars = pd.read_csv(\"/content/cars_engage_20221.csv\")"
      ]
    },
    {
      "cell_type": "code",
      "source": [
        "cars"
      ],
      "metadata": {
        "colab": {
          "base_uri": "https://localhost:8080/",
          "height": 852
        },
        "id": "fg04ZksEOAHT",
        "outputId": "b39385d9-6dcf-4eae-97ba-2901f6203b31"
      },
      "execution_count": null,
      "outputs": [
        {
          "output_type": "execute_result",
          "data": {
            "text/plain": [
              "      Unnamed: 0        Make      Model        Variant Ex-Showroom_Price  \\\n",
              "0              0        Tata  Nano Genx             Xt      Rs. 2,92,667   \n",
              "1              1        Tata  Nano Genx             Xe      Rs. 2,36,447   \n",
              "2              2        Tata  Nano Genx        Emax Xm      Rs. 2,96,661   \n",
              "3              3        Tata  Nano Genx            Xta      Rs. 3,34,768   \n",
              "4              4        Tata  Nano Genx             Xm      Rs. 2,72,223   \n",
              "...          ...         ...        ...            ...               ...   \n",
              "1271        1271       Honda       City   Vx Mt Diesel     Rs. 13,02,000   \n",
              "1272        1272       Honda       City   Zx Mt Diesel     Rs. 14,21,000   \n",
              "1273        1273       Honda       City  Zx Cvt Petrol     Rs. 14,31,000   \n",
              "1274        1274       Honda       City   V Cvt Petrol     Rs. 12,01,000   \n",
              "1275        1275  Mitsubishi    Montero         3.2 At     Rs. 68,62,560   \n",
              "\n",
              "     Displacement  Cylinders  Valves_Per_Cylinder               Drivetrain  \\\n",
              "0          624 cc        2.0                  2.0   RWD (Rear Wheel Drive)   \n",
              "1          624 cc        2.0                  2.0   RWD (Rear Wheel Drive)   \n",
              "2          624 cc        2.0                  2.0   RWD (Rear Wheel Drive)   \n",
              "3          624 cc        2.0                  2.0   RWD (Rear Wheel Drive)   \n",
              "4          624 cc        2.0                  2.0   RWD (Rear Wheel Drive)   \n",
              "...           ...        ...                  ...                      ...   \n",
              "1271      1498 cc        4.0                  4.0  FWD (Front Wheel Drive)   \n",
              "1272      1498 cc        4.0                  4.0  FWD (Front Wheel Drive)   \n",
              "1273      1497 cc        4.0                  4.0  FWD (Front Wheel Drive)   \n",
              "1274      1497 cc        4.0                  4.0  FWD (Front Wheel Drive)   \n",
              "1275      3200 cc        4.0                  4.0    AWD (All Wheel Drive)   \n",
              "\n",
              "     Cylinder_Configuration  ... Leather_Wrapped_Steering Automatic_Headlamps  \\\n",
              "0                   In-line  ...                      NaN                 NaN   \n",
              "1                   In-line  ...                      NaN                 NaN   \n",
              "2                   In-line  ...                      NaN                 NaN   \n",
              "3                   In-line  ...                      NaN                 NaN   \n",
              "4                   In-line  ...                      NaN                 NaN   \n",
              "...                     ...  ...                      ...                 ...   \n",
              "1271                In-line  ...                      Yes                 NaN   \n",
              "1272                In-line  ...                      Yes                 Yes   \n",
              "1273                In-line  ...                      Yes                 Yes   \n",
              "1274                In-line  ...                      NaN                 NaN   \n",
              "1275                In-line  ...                      Yes                 NaN   \n",
              "\n",
              "     Engine_Type ASR_/_Traction_Control Cruise_Control USB_Ports  \\\n",
              "0            NaN                    NaN            NaN       NaN   \n",
              "1            NaN                    NaN            NaN       NaN   \n",
              "2            NaN                    NaN            NaN       NaN   \n",
              "3            NaN                    NaN            NaN       NaN   \n",
              "4            NaN                    NaN            NaN       NaN   \n",
              "...          ...                    ...            ...       ...   \n",
              "1271         NaN                    NaN            Yes       NaN   \n",
              "1272         NaN                    NaN            Yes       NaN   \n",
              "1273         NaN                    NaN            Yes       NaN   \n",
              "1274         NaN                    NaN            Yes       NaN   \n",
              "1275         NaN                    Yes            Yes       NaN   \n",
              "\n",
              "     Heads-Up_Display Welcome_Lights Battery  Electric_Range  \n",
              "0                 NaN            NaN     NaN             NaN  \n",
              "1                 NaN            NaN     NaN             NaN  \n",
              "2                 NaN            NaN     NaN             NaN  \n",
              "3                 NaN            NaN     NaN             NaN  \n",
              "4                 NaN            NaN     NaN             NaN  \n",
              "...               ...            ...     ...             ...  \n",
              "1271              NaN            NaN     NaN             NaN  \n",
              "1272              NaN            NaN     NaN             NaN  \n",
              "1273              NaN            NaN     NaN             NaN  \n",
              "1274              NaN            NaN     NaN             NaN  \n",
              "1275              NaN            NaN     NaN             NaN  \n",
              "\n",
              "[1276 rows x 141 columns]"
            ],
            "text/html": [
              "\n",
              "  <div id=\"df-d9b2bbd7-1c4a-4f41-b276-190df7f440b9\">\n",
              "    <div class=\"colab-df-container\">\n",
              "      <div>\n",
              "<style scoped>\n",
              "    .dataframe tbody tr th:only-of-type {\n",
              "        vertical-align: middle;\n",
              "    }\n",
              "\n",
              "    .dataframe tbody tr th {\n",
              "        vertical-align: top;\n",
              "    }\n",
              "\n",
              "    .dataframe thead th {\n",
              "        text-align: right;\n",
              "    }\n",
              "</style>\n",
              "<table border=\"1\" class=\"dataframe\">\n",
              "  <thead>\n",
              "    <tr style=\"text-align: right;\">\n",
              "      <th></th>\n",
              "      <th>Unnamed: 0</th>\n",
              "      <th>Make</th>\n",
              "      <th>Model</th>\n",
              "      <th>Variant</th>\n",
              "      <th>Ex-Showroom_Price</th>\n",
              "      <th>Displacement</th>\n",
              "      <th>Cylinders</th>\n",
              "      <th>Valves_Per_Cylinder</th>\n",
              "      <th>Drivetrain</th>\n",
              "      <th>Cylinder_Configuration</th>\n",
              "      <th>...</th>\n",
              "      <th>Leather_Wrapped_Steering</th>\n",
              "      <th>Automatic_Headlamps</th>\n",
              "      <th>Engine_Type</th>\n",
              "      <th>ASR_/_Traction_Control</th>\n",
              "      <th>Cruise_Control</th>\n",
              "      <th>USB_Ports</th>\n",
              "      <th>Heads-Up_Display</th>\n",
              "      <th>Welcome_Lights</th>\n",
              "      <th>Battery</th>\n",
              "      <th>Electric_Range</th>\n",
              "    </tr>\n",
              "  </thead>\n",
              "  <tbody>\n",
              "    <tr>\n",
              "      <th>0</th>\n",
              "      <td>0</td>\n",
              "      <td>Tata</td>\n",
              "      <td>Nano Genx</td>\n",
              "      <td>Xt</td>\n",
              "      <td>Rs. 2,92,667</td>\n",
              "      <td>624 cc</td>\n",
              "      <td>2.0</td>\n",
              "      <td>2.0</td>\n",
              "      <td>RWD (Rear Wheel Drive)</td>\n",
              "      <td>In-line</td>\n",
              "      <td>...</td>\n",
              "      <td>NaN</td>\n",
              "      <td>NaN</td>\n",
              "      <td>NaN</td>\n",
              "      <td>NaN</td>\n",
              "      <td>NaN</td>\n",
              "      <td>NaN</td>\n",
              "      <td>NaN</td>\n",
              "      <td>NaN</td>\n",
              "      <td>NaN</td>\n",
              "      <td>NaN</td>\n",
              "    </tr>\n",
              "    <tr>\n",
              "      <th>1</th>\n",
              "      <td>1</td>\n",
              "      <td>Tata</td>\n",
              "      <td>Nano Genx</td>\n",
              "      <td>Xe</td>\n",
              "      <td>Rs. 2,36,447</td>\n",
              "      <td>624 cc</td>\n",
              "      <td>2.0</td>\n",
              "      <td>2.0</td>\n",
              "      <td>RWD (Rear Wheel Drive)</td>\n",
              "      <td>In-line</td>\n",
              "      <td>...</td>\n",
              "      <td>NaN</td>\n",
              "      <td>NaN</td>\n",
              "      <td>NaN</td>\n",
              "      <td>NaN</td>\n",
              "      <td>NaN</td>\n",
              "      <td>NaN</td>\n",
              "      <td>NaN</td>\n",
              "      <td>NaN</td>\n",
              "      <td>NaN</td>\n",
              "      <td>NaN</td>\n",
              "    </tr>\n",
              "    <tr>\n",
              "      <th>2</th>\n",
              "      <td>2</td>\n",
              "      <td>Tata</td>\n",
              "      <td>Nano Genx</td>\n",
              "      <td>Emax Xm</td>\n",
              "      <td>Rs. 2,96,661</td>\n",
              "      <td>624 cc</td>\n",
              "      <td>2.0</td>\n",
              "      <td>2.0</td>\n",
              "      <td>RWD (Rear Wheel Drive)</td>\n",
              "      <td>In-line</td>\n",
              "      <td>...</td>\n",
              "      <td>NaN</td>\n",
              "      <td>NaN</td>\n",
              "      <td>NaN</td>\n",
              "      <td>NaN</td>\n",
              "      <td>NaN</td>\n",
              "      <td>NaN</td>\n",
              "      <td>NaN</td>\n",
              "      <td>NaN</td>\n",
              "      <td>NaN</td>\n",
              "      <td>NaN</td>\n",
              "    </tr>\n",
              "    <tr>\n",
              "      <th>3</th>\n",
              "      <td>3</td>\n",
              "      <td>Tata</td>\n",
              "      <td>Nano Genx</td>\n",
              "      <td>Xta</td>\n",
              "      <td>Rs. 3,34,768</td>\n",
              "      <td>624 cc</td>\n",
              "      <td>2.0</td>\n",
              "      <td>2.0</td>\n",
              "      <td>RWD (Rear Wheel Drive)</td>\n",
              "      <td>In-line</td>\n",
              "      <td>...</td>\n",
              "      <td>NaN</td>\n",
              "      <td>NaN</td>\n",
              "      <td>NaN</td>\n",
              "      <td>NaN</td>\n",
              "      <td>NaN</td>\n",
              "      <td>NaN</td>\n",
              "      <td>NaN</td>\n",
              "      <td>NaN</td>\n",
              "      <td>NaN</td>\n",
              "      <td>NaN</td>\n",
              "    </tr>\n",
              "    <tr>\n",
              "      <th>4</th>\n",
              "      <td>4</td>\n",
              "      <td>Tata</td>\n",
              "      <td>Nano Genx</td>\n",
              "      <td>Xm</td>\n",
              "      <td>Rs. 2,72,223</td>\n",
              "      <td>624 cc</td>\n",
              "      <td>2.0</td>\n",
              "      <td>2.0</td>\n",
              "      <td>RWD (Rear Wheel Drive)</td>\n",
              "      <td>In-line</td>\n",
              "      <td>...</td>\n",
              "      <td>NaN</td>\n",
              "      <td>NaN</td>\n",
              "      <td>NaN</td>\n",
              "      <td>NaN</td>\n",
              "      <td>NaN</td>\n",
              "      <td>NaN</td>\n",
              "      <td>NaN</td>\n",
              "      <td>NaN</td>\n",
              "      <td>NaN</td>\n",
              "      <td>NaN</td>\n",
              "    </tr>\n",
              "    <tr>\n",
              "      <th>...</th>\n",
              "      <td>...</td>\n",
              "      <td>...</td>\n",
              "      <td>...</td>\n",
              "      <td>...</td>\n",
              "      <td>...</td>\n",
              "      <td>...</td>\n",
              "      <td>...</td>\n",
              "      <td>...</td>\n",
              "      <td>...</td>\n",
              "      <td>...</td>\n",
              "      <td>...</td>\n",
              "      <td>...</td>\n",
              "      <td>...</td>\n",
              "      <td>...</td>\n",
              "      <td>...</td>\n",
              "      <td>...</td>\n",
              "      <td>...</td>\n",
              "      <td>...</td>\n",
              "      <td>...</td>\n",
              "      <td>...</td>\n",
              "      <td>...</td>\n",
              "    </tr>\n",
              "    <tr>\n",
              "      <th>1271</th>\n",
              "      <td>1271</td>\n",
              "      <td>Honda</td>\n",
              "      <td>City</td>\n",
              "      <td>Vx Mt Diesel</td>\n",
              "      <td>Rs. 13,02,000</td>\n",
              "      <td>1498 cc</td>\n",
              "      <td>4.0</td>\n",
              "      <td>4.0</td>\n",
              "      <td>FWD (Front Wheel Drive)</td>\n",
              "      <td>In-line</td>\n",
              "      <td>...</td>\n",
              "      <td>Yes</td>\n",
              "      <td>NaN</td>\n",
              "      <td>NaN</td>\n",
              "      <td>NaN</td>\n",
              "      <td>Yes</td>\n",
              "      <td>NaN</td>\n",
              "      <td>NaN</td>\n",
              "      <td>NaN</td>\n",
              "      <td>NaN</td>\n",
              "      <td>NaN</td>\n",
              "    </tr>\n",
              "    <tr>\n",
              "      <th>1272</th>\n",
              "      <td>1272</td>\n",
              "      <td>Honda</td>\n",
              "      <td>City</td>\n",
              "      <td>Zx Mt Diesel</td>\n",
              "      <td>Rs. 14,21,000</td>\n",
              "      <td>1498 cc</td>\n",
              "      <td>4.0</td>\n",
              "      <td>4.0</td>\n",
              "      <td>FWD (Front Wheel Drive)</td>\n",
              "      <td>In-line</td>\n",
              "      <td>...</td>\n",
              "      <td>Yes</td>\n",
              "      <td>Yes</td>\n",
              "      <td>NaN</td>\n",
              "      <td>NaN</td>\n",
              "      <td>Yes</td>\n",
              "      <td>NaN</td>\n",
              "      <td>NaN</td>\n",
              "      <td>NaN</td>\n",
              "      <td>NaN</td>\n",
              "      <td>NaN</td>\n",
              "    </tr>\n",
              "    <tr>\n",
              "      <th>1273</th>\n",
              "      <td>1273</td>\n",
              "      <td>Honda</td>\n",
              "      <td>City</td>\n",
              "      <td>Zx Cvt Petrol</td>\n",
              "      <td>Rs. 14,31,000</td>\n",
              "      <td>1497 cc</td>\n",
              "      <td>4.0</td>\n",
              "      <td>4.0</td>\n",
              "      <td>FWD (Front Wheel Drive)</td>\n",
              "      <td>In-line</td>\n",
              "      <td>...</td>\n",
              "      <td>Yes</td>\n",
              "      <td>Yes</td>\n",
              "      <td>NaN</td>\n",
              "      <td>NaN</td>\n",
              "      <td>Yes</td>\n",
              "      <td>NaN</td>\n",
              "      <td>NaN</td>\n",
              "      <td>NaN</td>\n",
              "      <td>NaN</td>\n",
              "      <td>NaN</td>\n",
              "    </tr>\n",
              "    <tr>\n",
              "      <th>1274</th>\n",
              "      <td>1274</td>\n",
              "      <td>Honda</td>\n",
              "      <td>City</td>\n",
              "      <td>V Cvt Petrol</td>\n",
              "      <td>Rs. 12,01,000</td>\n",
              "      <td>1497 cc</td>\n",
              "      <td>4.0</td>\n",
              "      <td>4.0</td>\n",
              "      <td>FWD (Front Wheel Drive)</td>\n",
              "      <td>In-line</td>\n",
              "      <td>...</td>\n",
              "      <td>NaN</td>\n",
              "      <td>NaN</td>\n",
              "      <td>NaN</td>\n",
              "      <td>NaN</td>\n",
              "      <td>Yes</td>\n",
              "      <td>NaN</td>\n",
              "      <td>NaN</td>\n",
              "      <td>NaN</td>\n",
              "      <td>NaN</td>\n",
              "      <td>NaN</td>\n",
              "    </tr>\n",
              "    <tr>\n",
              "      <th>1275</th>\n",
              "      <td>1275</td>\n",
              "      <td>Mitsubishi</td>\n",
              "      <td>Montero</td>\n",
              "      <td>3.2 At</td>\n",
              "      <td>Rs. 68,62,560</td>\n",
              "      <td>3200 cc</td>\n",
              "      <td>4.0</td>\n",
              "      <td>4.0</td>\n",
              "      <td>AWD (All Wheel Drive)</td>\n",
              "      <td>In-line</td>\n",
              "      <td>...</td>\n",
              "      <td>Yes</td>\n",
              "      <td>NaN</td>\n",
              "      <td>NaN</td>\n",
              "      <td>Yes</td>\n",
              "      <td>Yes</td>\n",
              "      <td>NaN</td>\n",
              "      <td>NaN</td>\n",
              "      <td>NaN</td>\n",
              "      <td>NaN</td>\n",
              "      <td>NaN</td>\n",
              "    </tr>\n",
              "  </tbody>\n",
              "</table>\n",
              "<p>1276 rows × 141 columns</p>\n",
              "</div>\n",
              "      <button class=\"colab-df-convert\" onclick=\"convertToInteractive('df-d9b2bbd7-1c4a-4f41-b276-190df7f440b9')\"\n",
              "              title=\"Convert this dataframe to an interactive table.\"\n",
              "              style=\"display:none;\">\n",
              "        \n",
              "  <svg xmlns=\"http://www.w3.org/2000/svg\" height=\"24px\"viewBox=\"0 0 24 24\"\n",
              "       width=\"24px\">\n",
              "    <path d=\"M0 0h24v24H0V0z\" fill=\"none\"/>\n",
              "    <path d=\"M18.56 5.44l.94 2.06.94-2.06 2.06-.94-2.06-.94-.94-2.06-.94 2.06-2.06.94zm-11 1L8.5 8.5l.94-2.06 2.06-.94-2.06-.94L8.5 2.5l-.94 2.06-2.06.94zm10 10l.94 2.06.94-2.06 2.06-.94-2.06-.94-.94-2.06-.94 2.06-2.06.94z\"/><path d=\"M17.41 7.96l-1.37-1.37c-.4-.4-.92-.59-1.43-.59-.52 0-1.04.2-1.43.59L10.3 9.45l-7.72 7.72c-.78.78-.78 2.05 0 2.83L4 21.41c.39.39.9.59 1.41.59.51 0 1.02-.2 1.41-.59l7.78-7.78 2.81-2.81c.8-.78.8-2.07 0-2.86zM5.41 20L4 18.59l7.72-7.72 1.47 1.35L5.41 20z\"/>\n",
              "  </svg>\n",
              "      </button>\n",
              "      \n",
              "  <style>\n",
              "    .colab-df-container {\n",
              "      display:flex;\n",
              "      flex-wrap:wrap;\n",
              "      gap: 12px;\n",
              "    }\n",
              "\n",
              "    .colab-df-convert {\n",
              "      background-color: #E8F0FE;\n",
              "      border: none;\n",
              "      border-radius: 50%;\n",
              "      cursor: pointer;\n",
              "      display: none;\n",
              "      fill: #1967D2;\n",
              "      height: 32px;\n",
              "      padding: 0 0 0 0;\n",
              "      width: 32px;\n",
              "    }\n",
              "\n",
              "    .colab-df-convert:hover {\n",
              "      background-color: #E2EBFA;\n",
              "      box-shadow: 0px 1px 2px rgba(60, 64, 67, 0.3), 0px 1px 3px 1px rgba(60, 64, 67, 0.15);\n",
              "      fill: #174EA6;\n",
              "    }\n",
              "\n",
              "    [theme=dark] .colab-df-convert {\n",
              "      background-color: #3B4455;\n",
              "      fill: #D2E3FC;\n",
              "    }\n",
              "\n",
              "    [theme=dark] .colab-df-convert:hover {\n",
              "      background-color: #434B5C;\n",
              "      box-shadow: 0px 1px 3px 1px rgba(0, 0, 0, 0.15);\n",
              "      filter: drop-shadow(0px 1px 2px rgba(0, 0, 0, 0.3));\n",
              "      fill: #FFFFFF;\n",
              "    }\n",
              "  </style>\n",
              "\n",
              "      <script>\n",
              "        const buttonEl =\n",
              "          document.querySelector('#df-d9b2bbd7-1c4a-4f41-b276-190df7f440b9 button.colab-df-convert');\n",
              "        buttonEl.style.display =\n",
              "          google.colab.kernel.accessAllowed ? 'block' : 'none';\n",
              "\n",
              "        async function convertToInteractive(key) {\n",
              "          const element = document.querySelector('#df-d9b2bbd7-1c4a-4f41-b276-190df7f440b9');\n",
              "          const dataTable =\n",
              "            await google.colab.kernel.invokeFunction('convertToInteractive',\n",
              "                                                     [key], {});\n",
              "          if (!dataTable) return;\n",
              "\n",
              "          const docLinkHtml = 'Like what you see? Visit the ' +\n",
              "            '<a target=\"_blank\" href=https://colab.research.google.com/notebooks/data_table.ipynb>data table notebook</a>'\n",
              "            + ' to learn more about interactive tables.';\n",
              "          element.innerHTML = '';\n",
              "          dataTable['output_type'] = 'display_data';\n",
              "          await google.colab.output.renderOutput(dataTable, element);\n",
              "          const docLink = document.createElement('div');\n",
              "          docLink.innerHTML = docLinkHtml;\n",
              "          element.appendChild(docLink);\n",
              "        }\n",
              "      </script>\n",
              "    </div>\n",
              "  </div>\n",
              "  "
            ]
          },
          "metadata": {},
          "execution_count": 137
        }
      ]
    },
    {
      "cell_type": "markdown",
      "source": [
        "### **DATA CLEANING**"
      ],
      "metadata": {
        "id": "--BqtCyoOGiu"
      }
    },
    {
      "cell_type": "markdown",
      "source": [
        "Removing NaN Values"
      ],
      "metadata": {
        "id": "_p8pNLWIVO8T"
      }
    },
    {
      "cell_type": "code",
      "source": [
        "cars.isnull().sum()"
      ],
      "metadata": {
        "colab": {
          "base_uri": "https://localhost:8080/"
        },
        "id": "Z9jhtNDGOI34",
        "outputId": "ac8904e4-70e2-4014-c09a-369f824787e7"
      },
      "execution_count": null,
      "outputs": [
        {
          "output_type": "execute_result",
          "data": {
            "text/plain": [
              "Unnamed: 0              0\n",
              "Make                    0\n",
              "Model                   0\n",
              "Variant                 0\n",
              "Ex-Showroom_Price       0\n",
              "                     ... \n",
              "USB_Ports            1247\n",
              "Heads-Up_Display     1225\n",
              "Welcome_Lights       1207\n",
              "Battery              1263\n",
              "Electric_Range       1259\n",
              "Length: 141, dtype: int64"
            ]
          },
          "metadata": {},
          "execution_count": 138
        }
      ]
    },
    {
      "cell_type": "code",
      "source": [
        "cars.dropna(axis =1, inplace=True)\n",
        "cars.drop(\"Unnamed: 0\", axis =1, inplace=True)\n",
        "cars.isnull().sum()"
      ],
      "metadata": {
        "colab": {
          "base_uri": "https://localhost:8080/"
        },
        "id": "DkoKUhVgOPWL",
        "outputId": "eb3b988a-cf33-48cf-8cc6-67977e236da3"
      },
      "execution_count": null,
      "outputs": [
        {
          "output_type": "execute_result",
          "data": {
            "text/plain": [
              "Make                 0\n",
              "Model                0\n",
              "Variant              0\n",
              "Ex-Showroom_Price    0\n",
              "Fuel_Type            0\n",
              "Length               0\n",
              "Power                0\n",
              "dtype: int64"
            ]
          },
          "metadata": {},
          "execution_count": 139
        }
      ]
    },
    {
      "cell_type": "code",
      "source": [
        "cars.head(2)"
      ],
      "metadata": {
        "colab": {
          "base_uri": "https://localhost:8080/",
          "height": 112
        },
        "id": "LKW3ISRBOTZY",
        "outputId": "b4c37e99-abdc-46d2-dbbe-bacea247d83a"
      },
      "execution_count": null,
      "outputs": [
        {
          "output_type": "execute_result",
          "data": {
            "text/plain": [
              "   Make      Model Variant Ex-Showroom_Price Fuel_Type   Length         Power\n",
              "0  Tata  Nano Genx      Xt      Rs. 2,92,667    Petrol  3164 mm  38PS@5500rpm\n",
              "1  Tata  Nano Genx      Xe      Rs. 2,36,447    Petrol  3164 mm  38PS@5500rpm"
            ],
            "text/html": [
              "\n",
              "  <div id=\"df-ef572cd4-b71d-4490-ba0e-3d58f687830f\">\n",
              "    <div class=\"colab-df-container\">\n",
              "      <div>\n",
              "<style scoped>\n",
              "    .dataframe tbody tr th:only-of-type {\n",
              "        vertical-align: middle;\n",
              "    }\n",
              "\n",
              "    .dataframe tbody tr th {\n",
              "        vertical-align: top;\n",
              "    }\n",
              "\n",
              "    .dataframe thead th {\n",
              "        text-align: right;\n",
              "    }\n",
              "</style>\n",
              "<table border=\"1\" class=\"dataframe\">\n",
              "  <thead>\n",
              "    <tr style=\"text-align: right;\">\n",
              "      <th></th>\n",
              "      <th>Make</th>\n",
              "      <th>Model</th>\n",
              "      <th>Variant</th>\n",
              "      <th>Ex-Showroom_Price</th>\n",
              "      <th>Fuel_Type</th>\n",
              "      <th>Length</th>\n",
              "      <th>Power</th>\n",
              "    </tr>\n",
              "  </thead>\n",
              "  <tbody>\n",
              "    <tr>\n",
              "      <th>0</th>\n",
              "      <td>Tata</td>\n",
              "      <td>Nano Genx</td>\n",
              "      <td>Xt</td>\n",
              "      <td>Rs. 2,92,667</td>\n",
              "      <td>Petrol</td>\n",
              "      <td>3164 mm</td>\n",
              "      <td>38PS@5500rpm</td>\n",
              "    </tr>\n",
              "    <tr>\n",
              "      <th>1</th>\n",
              "      <td>Tata</td>\n",
              "      <td>Nano Genx</td>\n",
              "      <td>Xe</td>\n",
              "      <td>Rs. 2,36,447</td>\n",
              "      <td>Petrol</td>\n",
              "      <td>3164 mm</td>\n",
              "      <td>38PS@5500rpm</td>\n",
              "    </tr>\n",
              "  </tbody>\n",
              "</table>\n",
              "</div>\n",
              "      <button class=\"colab-df-convert\" onclick=\"convertToInteractive('df-ef572cd4-b71d-4490-ba0e-3d58f687830f')\"\n",
              "              title=\"Convert this dataframe to an interactive table.\"\n",
              "              style=\"display:none;\">\n",
              "        \n",
              "  <svg xmlns=\"http://www.w3.org/2000/svg\" height=\"24px\"viewBox=\"0 0 24 24\"\n",
              "       width=\"24px\">\n",
              "    <path d=\"M0 0h24v24H0V0z\" fill=\"none\"/>\n",
              "    <path d=\"M18.56 5.44l.94 2.06.94-2.06 2.06-.94-2.06-.94-.94-2.06-.94 2.06-2.06.94zm-11 1L8.5 8.5l.94-2.06 2.06-.94-2.06-.94L8.5 2.5l-.94 2.06-2.06.94zm10 10l.94 2.06.94-2.06 2.06-.94-2.06-.94-.94-2.06-.94 2.06-2.06.94z\"/><path d=\"M17.41 7.96l-1.37-1.37c-.4-.4-.92-.59-1.43-.59-.52 0-1.04.2-1.43.59L10.3 9.45l-7.72 7.72c-.78.78-.78 2.05 0 2.83L4 21.41c.39.39.9.59 1.41.59.51 0 1.02-.2 1.41-.59l7.78-7.78 2.81-2.81c.8-.78.8-2.07 0-2.86zM5.41 20L4 18.59l7.72-7.72 1.47 1.35L5.41 20z\"/>\n",
              "  </svg>\n",
              "      </button>\n",
              "      \n",
              "  <style>\n",
              "    .colab-df-container {\n",
              "      display:flex;\n",
              "      flex-wrap:wrap;\n",
              "      gap: 12px;\n",
              "    }\n",
              "\n",
              "    .colab-df-convert {\n",
              "      background-color: #E8F0FE;\n",
              "      border: none;\n",
              "      border-radius: 50%;\n",
              "      cursor: pointer;\n",
              "      display: none;\n",
              "      fill: #1967D2;\n",
              "      height: 32px;\n",
              "      padding: 0 0 0 0;\n",
              "      width: 32px;\n",
              "    }\n",
              "\n",
              "    .colab-df-convert:hover {\n",
              "      background-color: #E2EBFA;\n",
              "      box-shadow: 0px 1px 2px rgba(60, 64, 67, 0.3), 0px 1px 3px 1px rgba(60, 64, 67, 0.15);\n",
              "      fill: #174EA6;\n",
              "    }\n",
              "\n",
              "    [theme=dark] .colab-df-convert {\n",
              "      background-color: #3B4455;\n",
              "      fill: #D2E3FC;\n",
              "    }\n",
              "\n",
              "    [theme=dark] .colab-df-convert:hover {\n",
              "      background-color: #434B5C;\n",
              "      box-shadow: 0px 1px 3px 1px rgba(0, 0, 0, 0.15);\n",
              "      filter: drop-shadow(0px 1px 2px rgba(0, 0, 0, 0.3));\n",
              "      fill: #FFFFFF;\n",
              "    }\n",
              "  </style>\n",
              "\n",
              "      <script>\n",
              "        const buttonEl =\n",
              "          document.querySelector('#df-ef572cd4-b71d-4490-ba0e-3d58f687830f button.colab-df-convert');\n",
              "        buttonEl.style.display =\n",
              "          google.colab.kernel.accessAllowed ? 'block' : 'none';\n",
              "\n",
              "        async function convertToInteractive(key) {\n",
              "          const element = document.querySelector('#df-ef572cd4-b71d-4490-ba0e-3d58f687830f');\n",
              "          const dataTable =\n",
              "            await google.colab.kernel.invokeFunction('convertToInteractive',\n",
              "                                                     [key], {});\n",
              "          if (!dataTable) return;\n",
              "\n",
              "          const docLinkHtml = 'Like what you see? Visit the ' +\n",
              "            '<a target=\"_blank\" href=https://colab.research.google.com/notebooks/data_table.ipynb>data table notebook</a>'\n",
              "            + ' to learn more about interactive tables.';\n",
              "          element.innerHTML = '';\n",
              "          dataTable['output_type'] = 'display_data';\n",
              "          await google.colab.output.renderOutput(dataTable, element);\n",
              "          const docLink = document.createElement('div');\n",
              "          docLink.innerHTML = docLinkHtml;\n",
              "          element.appendChild(docLink);\n",
              "        }\n",
              "      </script>\n",
              "    </div>\n",
              "  </div>\n",
              "  "
            ]
          },
          "metadata": {},
          "execution_count": 140
        }
      ]
    },
    {
      "cell_type": "markdown",
      "source": [
        "### **DATA ANALYSIS**"
      ],
      "metadata": {
        "id": "tdKhEDiDOZn-"
      }
    },
    {
      "cell_type": "code",
      "source": [
        "# Most Sold Make\n",
        "\n",
        "plt.figure(figsize=(22,6))\n",
        "cars_make = sns.countplot(data=cars, x='Make',color='brown')\n",
        "plt.title('Cars count V/S Make')\n",
        "plt.xticks(fontsize=10, rotation = 75)\n",
        "plt.yticks(fontsize=14)\n",
        "plt.ylabel('');"
      ],
      "metadata": {
        "colab": {
          "base_uri": "https://localhost:8080/",
          "height": 481
        },
        "id": "VzGdierYOV6z",
        "outputId": "92f3f405-1d71-4cd5-ebca-13ff2267b6f9"
      },
      "execution_count": null,
      "outputs": [
        {
          "output_type": "display_data",
          "data": {
            "text/plain": [
              "<Figure size 1584x432 with 1 Axes>"
            ],
            "image/png": "[encoded data removed]"
          },
          "metadata": {
            "needs_background": "light"
          }
        }
      ]
    },
    {
      "cell_type": "code",
      "source": [
        "# Most Sold Model\n",
        "\n",
        "# Slicing Model data to Ex-Showroom_Price less than ₹ 75,00,000 since most of the buyers buy cars under this range\n",
        "\n",
        "cars_s = cars.iloc[0:299, 1:2]\n",
        "plt.figure(figsize=(26,6))\n",
        "sns.countplot(data=cars_s, x='Model',color='brown')\n",
        "plt.title('Sold Count V/S Model')\n",
        "plt.xticks(fontsize=10, rotation = 75)\n",
        "plt.yticks(fontsize=14)"
      ],
      "metadata": {
        "colab": {
          "base_uri": "https://localhost:8080/",
          "height": 550
        },
        "id": "NbSJksfIOiKz",
        "outputId": "8e547bef-b296-4614-83fe-05740d5aac7b"
      },
      "execution_count": null,
      "outputs": [
        {
          "output_type": "execute_result",
          "data": {
            "text/plain": [
              "(array([ 0.,  2.,  4.,  6.,  8., 10., 12., 14., 16.]),\n",
              " <a list of 9 Text major ticklabel objects>)"
            ]
          },
          "metadata": {},
          "execution_count": 142
        },
        {
          "output_type": "display_data",
          "data": {
            "text/plain": [
              "<Figure size 1872x432 with 1 Axes>"
            ],
            "image/png": "[encoded data removed]"
          },
          "metadata": {
            "needs_background": "light"
          }
        }
      ]
    },
    {
      "cell_type": "code",
      "source": [
        "plt.figure(figsize=(11,6))\n",
        "sns.countplot(data=cars, x='Fuel_Type',color='brown')\n",
        "plt.title('Cars count V/S Fuel Type')\n",
        "plt.xlabel('Fuel Type', fontsize=16)\n",
        "plt.xticks(fontsize=14)\n",
        "plt.yticks(fontsize=14)\n",
        "plt.ylabel('');"
      ],
      "metadata": {
        "colab": {
          "base_uri": "https://localhost:8080/",
          "height": 413
        },
        "id": "0KPsNemLO2sm",
        "outputId": "4491b35c-d189-4ece-ebc5-0f8f81146290"
      },
      "execution_count": null,
      "outputs": [
        {
          "output_type": "display_data",
          "data": {
            "text/plain": [
              "<Figure size 792x432 with 1 Axes>"
            ],
            "image/png": "[encoded data removed]"
          },
          "metadata": {
            "needs_background": "light"
          }
        }
      ]
    },
    {
      "cell_type": "code",
      "source": [
        "# Changing Ex-Showroom_Price and Length from string to float data type\n",
        "cars[\"Ex-Showroom_Price\"] = cars[\"Ex-Showroom_Price\"].str.replace(\"[Rs. ]\",\"\") \n",
        "cars[\"Ex-Showroom_Price\"] = cars[\"Ex-Showroom_Price\"].str.replace(\"[,]\",\"\") \n",
        "cars = cars.astype({'Ex-Showroom_Price':'float'}) \n",
        "\n",
        "cars[\"Length\"] = cars[\"Length\"].str.replace(\"[ mm]\",\"\") \n",
        "cars = cars.astype({'Length':'float'}) \n",
        "\n",
        "# Splitting Power into HP (Horse Power) and RPM; and converting their data type from string to float\n",
        "\n",
        "new = cars[\"Power\"].str.split(\"@\", n = 1, expand = True)\n",
        "cars[\"HP\"]= new[0]\n",
        "cars[\"RPM\"]= new[1]\n",
        "cars.drop(columns =[\"Power\"], inplace = True)\n",
        "\n",
        "cars[\"HP\"] = cars[\"HP\"].str.replace(\"[PS]\",\"\")\n",
        "cars[\"HP\"] = cars[\"HP\"].str.replace(\"[bhp]\",\"\")\n",
        "cars[\"HP\"] = cars[\"HP\"].str.replace(\"[s]\",\"\")\n",
        "cars[\"HP\"] = cars[\"HP\"].str.replace(\"[B ]\",\"\")\n",
        "cars[\"HP\"] = cars[\"HP\"].str.replace(\"[ps]\",\"\")\n",
        "cars[\"HP\"] = cars[\"HP\"].str.replace(\"[H]\",\"\") \n",
        "cars[\"HP\"] = cars[\"HP\"].str.replace(\"[1600Nm]\",\"2\") #Torque converted into ps\n",
        "\n",
        "\n",
        "cars[\"HP\"] = cars[\"HP\"].str.replace(\"[kW]\",\"\") \n",
        "cars = cars.astype({'HP':'float'}) \n",
        "\n",
        "cars.isnull().sum()"
      ],
      "metadata": {
        "colab": {
          "base_uri": "https://localhost:8080/"
        },
        "id": "MqH1jZ1UO7jb",
        "outputId": "7588447d-33e2-4991-d8d6-0573f01ec1ce"
      },
      "execution_count": null,
      "outputs": [
        {
          "output_type": "stream",
          "name": "stderr",
          "text": [
            "/usr/local/lib/python3.7/dist-packages/ipykernel_launcher.py:2: FutureWarning: The default value of regex will change from True to False in a future version.\n",
            "  \n",
            "/usr/local/lib/python3.7/dist-packages/ipykernel_launcher.py:3: FutureWarning: The default value of regex will change from True to False in a future version.\n",
            "  This is separate from the ipykernel package so we can avoid doing imports until\n",
            "/usr/local/lib/python3.7/dist-packages/ipykernel_launcher.py:6: FutureWarning: The default value of regex will change from True to False in a future version.\n",
            "  \n",
            "/usr/local/lib/python3.7/dist-packages/ipykernel_launcher.py:16: FutureWarning: The default value of regex will change from True to False in a future version.\n",
            "  app.launch_new_instance()\n",
            "/usr/local/lib/python3.7/dist-packages/ipykernel_launcher.py:17: FutureWarning: The default value of regex will change from True to False in a future version.\n",
            "/usr/local/lib/python3.7/dist-packages/ipykernel_launcher.py:18: FutureWarning: The default value of regex will change from True to False in a future version.\n",
            "/usr/local/lib/python3.7/dist-packages/ipykernel_launcher.py:19: FutureWarning: The default value of regex will change from True to False in a future version.\n",
            "/usr/local/lib/python3.7/dist-packages/ipykernel_launcher.py:20: FutureWarning: The default value of regex will change from True to False in a future version.\n",
            "/usr/local/lib/python3.7/dist-packages/ipykernel_launcher.py:21: FutureWarning: The default value of regex will change from True to False in a future version.\n",
            "/usr/local/lib/python3.7/dist-packages/ipykernel_launcher.py:22: FutureWarning: The default value of regex will change from True to False in a future version.\n",
            "/usr/local/lib/python3.7/dist-packages/ipykernel_launcher.py:25: FutureWarning: The default value of regex will change from True to False in a future version.\n"
          ]
        },
        {
          "output_type": "execute_result",
          "data": {
            "text/plain": [
              "Make                  0\n",
              "Model                 0\n",
              "Variant               0\n",
              "Ex-Showroom_Price     0\n",
              "Fuel_Type             0\n",
              "Length                0\n",
              "HP                    0\n",
              "RPM                  19\n",
              "dtype: int64"
            ]
          },
          "metadata": {},
          "execution_count": 144
        }
      ]
    },
    {
      "cell_type": "code",
      "source": [
        "cars.dropna(axis =1, inplace =True)\n",
        "cars.isnull().sum()"
      ],
      "metadata": {
        "colab": {
          "base_uri": "https://localhost:8080/"
        },
        "id": "vv1D2-DYPNnu",
        "outputId": "1187f4b5-7ed6-4daa-84ab-179b708af241"
      },
      "execution_count": null,
      "outputs": [
        {
          "output_type": "execute_result",
          "data": {
            "text/plain": [
              "Make                 0\n",
              "Model                0\n",
              "Variant              0\n",
              "Ex-Showroom_Price    0\n",
              "Fuel_Type            0\n",
              "Length               0\n",
              "HP                   0\n",
              "dtype: int64"
            ]
          },
          "metadata": {},
          "execution_count": 145
        }
      ]
    },
    {
      "cell_type": "code",
      "source": [
        "# PLotting graphs for count based on the Ex-Showroom Price, plotting normal and log graphs due to huge difference in prices\n",
        "\n",
        "fig,(ax1,ax2) = plt.subplots(2,1,figsize=(14,11))\n",
        "sns.histplot(data=cars, x='Ex-Showroom_Price',bins=50, color='brown', ax=ax1)\n",
        "ax12 = ax1.twinx()\n",
        "sns.kdeplot(data=cars, x='Ex-Showroom_Price', alpha=.2,fill= True,color=\"#254b7f\",ax=ax12,linewidth=0)\n",
        "ax12.grid()\n",
        "ax1.set_title('Histogram of cars price data',fontsize=16)\n",
        "ax1.set_xlabel('')\n",
        "logbins = np.logspace(np.log10(3000),np.log10(744944.578),50)\n",
        "sns.histplot(data=cars, x='Ex-Showroom_Price',bins=logbins,alpha=.6, color='brown',ax=ax2)\n",
        "ax2.set_title('Histogram of cars price data (log scale)',fontsize=16)\n",
        "ax2.set_xscale('log')\n",
        "ax22 = ax2.twinx()\n",
        "ax22.grid()\n",
        "sns.kdeplot(data=cars, x='Ex-Showroom_Price', alpha=.2,fill= True,color=\"#254b7f\",ax=ax22,log_scale=True,linewidth=0)\n",
        "ax2.set_xlabel('Ex-Showroom_Price (log)', fontsize=14)\n",
        "ax22.set_xticks((800,1000,10000,100000,1000000))\n",
        "ax2.xaxis.set_tick_params(labelsize=14);\n",
        "ax1.xaxis.set_tick_params(labelsize=14);"
      ],
      "metadata": {
        "colab": {
          "base_uri": "https://localhost:8080/",
          "height": 691
        },
        "id": "AMoy0SUEPS95",
        "outputId": "a53d1d36-e491-48c4-9c84-055132874422"
      },
      "execution_count": null,
      "outputs": [
        {
          "output_type": "display_data",
          "data": {
            "text/plain": [
              "<Figure size 1008x792 with 4 Axes>"
            ],
            "image/png": "[encoded data removed]"
          },
          "metadata": {
            "needs_background": "light"
          }
        }
      ]
    },
    {
      "cell_type": "code",
      "source": [
        "# Range of length of car which were sold\n",
        "\n",
        "plt.figure(figsize=(12,6))\n",
        "sns.boxplot(data=cars, x='Length',width=.3,color='brown')"
      ],
      "metadata": {
        "colab": {
          "base_uri": "https://localhost:8080/",
          "height": 405
        },
        "id": "mjdvLwrlPXiZ",
        "outputId": "d4d72af1-e863-4320-9205-c8658e302253"
      },
      "execution_count": null,
      "outputs": [
        {
          "output_type": "execute_result",
          "data": {
            "text/plain": [
              "<matplotlib.axes._subplots.AxesSubplot at 0x7fee02edce90>"
            ]
          },
          "metadata": {},
          "execution_count": 147
        },
        {
          "output_type": "display_data",
          "data": {
            "text/plain": [
              "<Figure size 864x432 with 1 Axes>"
            ],
            "image/png": "[encoded data removed]"
          },
          "metadata": {
            "needs_background": "light"
          }
        }
      ]
    },
    {
      "cell_type": "code",
      "source": [
        "# Determining what Fuel Type was sold at what price range\n",
        "\n",
        "plt.scatter(cars['Ex-Showroom_Price'], cars['Fuel_Type'])\n",
        "plt.show"
      ],
      "metadata": {
        "colab": {
          "base_uri": "https://localhost:8080/",
          "height": 295
        },
        "id": "utcs1343PajC",
        "outputId": "faddc56a-d0e1-43b5-9c2b-381da4bd47bf"
      },
      "execution_count": null,
      "outputs": [
        {
          "output_type": "execute_result",
          "data": {
            "text/plain": [
              "<function matplotlib.pyplot.show>"
            ]
          },
          "metadata": {},
          "execution_count": 148
        },
        {
          "output_type": "display_data",
          "data": {
            "text/plain": [
              "<Figure size 432x288 with 1 Axes>"
            ],
            "image/png": "[encoded data removed]"
          },
          "metadata": {
            "needs_background": "light"
          }
        }
      ]
    },
    {
      "cell_type": "markdown",
      "source": [
        "### **Server Connection**"
      ],
      "metadata": {
        "id": "X5lqalsoRa2P"
      }
    },
    {
      "cell_type": "markdown",
      "source": [
        "If the following code doesn't run, uncomment below code, Restart Runtime and re-run entire code again."
      ],
      "metadata": {
        "id": "2T9Ai8SGRkLv"
      }
    },
    {
      "cell_type": "code",
      "source": [
        "# pip install anvil-uplink"
      ],
      "metadata": {
        "id": "NUBSsFHwRg_j"
      },
      "execution_count": null,
      "outputs": []
    },
    {
      "cell_type": "code",
      "source": [
        "import anvil.server\n",
        "import anvil.mpl_util\n",
        "\n",
        "anvil.server.connect(\"Q5J5GSVAXNQZAAEKPYRKWMOG-P57AXF6NWFMKFXL4\")                        #Anvil Uplink Key for connection with the web app."
      ],
      "metadata": {
        "id": "NEMjIBQtSF6O"
      },
      "execution_count": null,
      "outputs": []
    },
    {
      "cell_type": "markdown",
      "source": [
        "Defining functions for graphs to be called in webapp's display.\n",
        "`@anvil.server.callable` -> defines that the next function is available to called by Anvil's webserver."
      ],
      "metadata": {
        "id": "ZKxY1fHN90qm"
      }
    },
    {
      "cell_type": "code",
      "source": [
        "@anvil.server.callable\n",
        "def plot_carsMake():\n",
        "    \n",
        "  # Plot it in the normal Matplotlib way\n",
        "  plt.figure(figsize=(22,6))\n",
        "  sns.countplot(data=cars, x='Make',color='brown')\n",
        "  plt.title('Cars count V/S Make')\n",
        "  plt.xticks(fontsize=10, rotation = 75)\n",
        "  plt.yticks(fontsize=14)\n",
        "  plt.ylabel('')\n",
        "  \n",
        "  # Return this plot as a PNG image in a Media object\n",
        "  return anvil.mpl_util.plot_image()\n",
        "\n",
        "@anvil.server.callable\n",
        "def plot_carsFuel():\n",
        "  plt.figure(figsize=(11,6))\n",
        "  sns.countplot(data=cars, x='Fuel_Type',color='brown')\n",
        "  plt.title('Cars count V/S Fuel Type')\n",
        "  plt.xlabel('Fuel Type', fontsize=16)\n",
        "  plt.xticks(fontsize=14)\n",
        "  plt.yticks(fontsize=14)\n",
        "  plt.ylabel('')\n",
        "\n",
        "  return anvil.mpl_util.plot_image()\n",
        "\n",
        "@anvil.server.callable\n",
        "def scatter_carsFuel():\n",
        "  plt.figure(figsize=(11,6))\n",
        "  plt.scatter(cars['Ex-Showroom_Price'], cars['Fuel_Type'])\n",
        "  plt.title('Fuel Type V/S Ex-Showroom_Price')\n",
        "\n",
        "  return anvil.mpl_util.plot_image()\n",
        "\n",
        "@anvil.server.callable\n",
        "def price_check():\n",
        "  fig,(ax1,ax2) = plt.subplots(2,1,figsize=(14,11))\n",
        "  sns.histplot(data=cars, x='Ex-Showroom_Price',bins=50, color='brown', ax=ax1)\n",
        "  ax12 = ax1.twinx()\n",
        "  sns.kdeplot(data=cars, x='Ex-Showroom_Price', alpha=.2,fill= True,color=\"#254b7f\",ax=ax12,linewidth=0)\n",
        "  ax12.grid()\n",
        "  ax1.set_title('Histogram of cars price data',fontsize=16)\n",
        "  ax1.set_xlabel('')\n",
        "  logbins = np.logspace(np.log10(3000),np.log10(744944.578),50)\n",
        "  sns.histplot(data=cars, x='Ex-Showroom_Price',bins=logbins,alpha=.6, color='brown',ax=ax2)\n",
        "  ax2.set_title('Histogram of cars price data (log scale)',fontsize=16)\n",
        "  ax2.set_xscale('log')\n",
        "  ax22 = ax2.twinx()\n",
        "  ax22.grid()\n",
        "  sns.kdeplot(data=cars, x='Ex-Showroom_Price', alpha=.2,fill= True,color=\"#254b7f\",ax=ax22,log_scale=True,linewidth=0)\n",
        "  ax2.set_xlabel('Ex-Showroom_Price (log)', fontsize=14)\n",
        "  ax22.set_xticks((800,1000,10000,100000,1000000))\n",
        "  ax2.xaxis.set_tick_params(labelsize=14);\n",
        "  ax1.xaxis.set_tick_params(labelsize=14);\n",
        "\n",
        "  return anvil.mpl_util.plot_image()\n",
        "\n",
        "@anvil.server.callable\n",
        "def mostSold():\n",
        "  cars_s = cars.iloc[0:299, 1:2]\n",
        "  plt.figure(figsize=(28,6))\n",
        "  sns.countplot(data=cars_s, x='Model',color='brown')\n",
        "  plt.title('Sold Count V/S Model')\n",
        "  plt.xticks(fontsize=10, rotation = 75)\n",
        "  plt.yticks(fontsize=14)\n",
        "\n",
        "  return anvil.mpl_util.plot_image()"
      ],
      "metadata": {
        "id": "0gw9F-b2SsFp"
      },
      "execution_count": null,
      "outputs": []
    },
    {
      "cell_type": "markdown",
      "source": [
        "### **Generating Model**"
      ],
      "metadata": {
        "id": "1GqJejGBpGkB"
      }
    },
    {
      "cell_type": "code",
      "source": [
        "from sklearn import preprocessing\n",
        "le = preprocessing.LabelEncoder()"
      ],
      "metadata": {
        "id": "i4uXLahgpM-6"
      },
      "execution_count": null,
      "outputs": []
    },
    {
      "cell_type": "code",
      "source": [
        "le.fit(cars[\"Fuel_Type\"])\n",
        "list(le.classes_)"
      ],
      "metadata": {
        "colab": {
          "base_uri": "https://localhost:8080/"
        },
        "id": "V3xhau9XpPV3",
        "outputId": "6da7aeae-860e-4824-998b-2bd6577d0e9b"
      },
      "execution_count": null,
      "outputs": [
        {
          "output_type": "execute_result",
          "data": {
            "text/plain": [
              "['CNG', 'CNG + Petrol', 'Diesel', 'Electric', 'Hybrid', 'Petrol']"
            ]
          },
          "metadata": {},
          "execution_count": 153
        }
      ]
    },
    {
      "cell_type": "code",
      "source": [
        "fuel = le.transform(cars[\"Fuel_Type\"])\n",
        "fuel"
      ],
      "metadata": {
        "colab": {
          "base_uri": "https://localhost:8080/"
        },
        "id": "Iqw7nMyVpRZV",
        "outputId": "fcacdcc2-8c81-4d1f-fccf-8e2930d687a4"
      },
      "execution_count": null,
      "outputs": [
        {
          "output_type": "execute_result",
          "data": {
            "text/plain": [
              "array([5, 5, 0, ..., 5, 5, 2])"
            ]
          },
          "metadata": {},
          "execution_count": 154
        }
      ]
    },
    {
      "cell_type": "code",
      "source": [
        "Fuel_lbl = pd.DataFrame(fuel, columns = ['Fuel'])\n",
        "Fuel_lbl"
      ],
      "metadata": {
        "colab": {
          "base_uri": "https://localhost:8080/",
          "height": 424
        },
        "id": "BxNXzskHpTjN",
        "outputId": "62e3c76f-c707-4749-d517-69f01b5eb5ad"
      },
      "execution_count": null,
      "outputs": [
        {
          "output_type": "execute_result",
          "data": {
            "text/plain": [
              "      Fuel\n",
              "0        5\n",
              "1        5\n",
              "2        0\n",
              "3        5\n",
              "4        5\n",
              "...    ...\n",
              "1271     2\n",
              "1272     2\n",
              "1273     5\n",
              "1274     5\n",
              "1275     2\n",
              "\n",
              "[1276 rows x 1 columns]"
            ],
            "text/html": [
              "\n",
              "  <div id=\"df-e9e89519-3f3d-4b88-947c-94de1483e446\">\n",
              "    <div class=\"colab-df-container\">\n",
              "      <div>\n",
              "<style scoped>\n",
              "    .dataframe tbody tr th:only-of-type {\n",
              "        vertical-align: middle;\n",
              "    }\n",
              "\n",
              "    .dataframe tbody tr th {\n",
              "        vertical-align: top;\n",
              "    }\n",
              "\n",
              "    .dataframe thead th {\n",
              "        text-align: right;\n",
              "    }\n",
              "</style>\n",
              "<table border=\"1\" class=\"dataframe\">\n",
              "  <thead>\n",
              "    <tr style=\"text-align: right;\">\n",
              "      <th></th>\n",
              "      <th>Fuel</th>\n",
              "    </tr>\n",
              "  </thead>\n",
              "  <tbody>\n",
              "    <tr>\n",
              "      <th>0</th>\n",
              "      <td>5</td>\n",
              "    </tr>\n",
              "    <tr>\n",
              "      <th>1</th>\n",
              "      <td>5</td>\n",
              "    </tr>\n",
              "    <tr>\n",
              "      <th>2</th>\n",
              "      <td>0</td>\n",
              "    </tr>\n",
              "    <tr>\n",
              "      <th>3</th>\n",
              "      <td>5</td>\n",
              "    </tr>\n",
              "    <tr>\n",
              "      <th>4</th>\n",
              "      <td>5</td>\n",
              "    </tr>\n",
              "    <tr>\n",
              "      <th>...</th>\n",
              "      <td>...</td>\n",
              "    </tr>\n",
              "    <tr>\n",
              "      <th>1271</th>\n",
              "      <td>2</td>\n",
              "    </tr>\n",
              "    <tr>\n",
              "      <th>1272</th>\n",
              "      <td>2</td>\n",
              "    </tr>\n",
              "    <tr>\n",
              "      <th>1273</th>\n",
              "      <td>5</td>\n",
              "    </tr>\n",
              "    <tr>\n",
              "      <th>1274</th>\n",
              "      <td>5</td>\n",
              "    </tr>\n",
              "    <tr>\n",
              "      <th>1275</th>\n",
              "      <td>2</td>\n",
              "    </tr>\n",
              "  </tbody>\n",
              "</table>\n",
              "<p>1276 rows × 1 columns</p>\n",
              "</div>\n",
              "      <button class=\"colab-df-convert\" onclick=\"convertToInteractive('df-e9e89519-3f3d-4b88-947c-94de1483e446')\"\n",
              "              title=\"Convert this dataframe to an interactive table.\"\n",
              "              style=\"display:none;\">\n",
              "        \n",
              "  <svg xmlns=\"http://www.w3.org/2000/svg\" height=\"24px\"viewBox=\"0 0 24 24\"\n",
              "       width=\"24px\">\n",
              "    <path d=\"M0 0h24v24H0V0z\" fill=\"none\"/>\n",
              "    <path d=\"M18.56 5.44l.94 2.06.94-2.06 2.06-.94-2.06-.94-.94-2.06-.94 2.06-2.06.94zm-11 1L8.5 8.5l.94-2.06 2.06-.94-2.06-.94L8.5 2.5l-.94 2.06-2.06.94zm10 10l.94 2.06.94-2.06 2.06-.94-2.06-.94-.94-2.06-.94 2.06-2.06.94z\"/><path d=\"M17.41 7.96l-1.37-1.37c-.4-.4-.92-.59-1.43-.59-.52 0-1.04.2-1.43.59L10.3 9.45l-7.72 7.72c-.78.78-.78 2.05 0 2.83L4 21.41c.39.39.9.59 1.41.59.51 0 1.02-.2 1.41-.59l7.78-7.78 2.81-2.81c.8-.78.8-2.07 0-2.86zM5.41 20L4 18.59l7.72-7.72 1.47 1.35L5.41 20z\"/>\n",
              "  </svg>\n",
              "      </button>\n",
              "      \n",
              "  <style>\n",
              "    .colab-df-container {\n",
              "      display:flex;\n",
              "      flex-wrap:wrap;\n",
              "      gap: 12px;\n",
              "    }\n",
              "\n",
              "    .colab-df-convert {\n",
              "      background-color: #E8F0FE;\n",
              "      border: none;\n",
              "      border-radius: 50%;\n",
              "      cursor: pointer;\n",
              "      display: none;\n",
              "      fill: #1967D2;\n",
              "      height: 32px;\n",
              "      padding: 0 0 0 0;\n",
              "      width: 32px;\n",
              "    }\n",
              "\n",
              "    .colab-df-convert:hover {\n",
              "      background-color: #E2EBFA;\n",
              "      box-shadow: 0px 1px 2px rgba(60, 64, 67, 0.3), 0px 1px 3px 1px rgba(60, 64, 67, 0.15);\n",
              "      fill: #174EA6;\n",
              "    }\n",
              "\n",
              "    [theme=dark] .colab-df-convert {\n",
              "      background-color: #3B4455;\n",
              "      fill: #D2E3FC;\n",
              "    }\n",
              "\n",
              "    [theme=dark] .colab-df-convert:hover {\n",
              "      background-color: #434B5C;\n",
              "      box-shadow: 0px 1px 3px 1px rgba(0, 0, 0, 0.15);\n",
              "      filter: drop-shadow(0px 1px 2px rgba(0, 0, 0, 0.3));\n",
              "      fill: #FFFFFF;\n",
              "    }\n",
              "  </style>\n",
              "\n",
              "      <script>\n",
              "        const buttonEl =\n",
              "          document.querySelector('#df-e9e89519-3f3d-4b88-947c-94de1483e446 button.colab-df-convert');\n",
              "        buttonEl.style.display =\n",
              "          google.colab.kernel.accessAllowed ? 'block' : 'none';\n",
              "\n",
              "        async function convertToInteractive(key) {\n",
              "          const element = document.querySelector('#df-e9e89519-3f3d-4b88-947c-94de1483e446');\n",
              "          const dataTable =\n",
              "            await google.colab.kernel.invokeFunction('convertToInteractive',\n",
              "                                                     [key], {});\n",
              "          if (!dataTable) return;\n",
              "\n",
              "          const docLinkHtml = 'Like what you see? Visit the ' +\n",
              "            '<a target=\"_blank\" href=https://colab.research.google.com/notebooks/data_table.ipynb>data table notebook</a>'\n",
              "            + ' to learn more about interactive tables.';\n",
              "          element.innerHTML = '';\n",
              "          dataTable['output_type'] = 'display_data';\n",
              "          await google.colab.output.renderOutput(dataTable, element);\n",
              "          const docLink = document.createElement('div');\n",
              "          docLink.innerHTML = docLinkHtml;\n",
              "          element.appendChild(docLink);\n",
              "        }\n",
              "      </script>\n",
              "    </div>\n",
              "  </div>\n",
              "  "
            ]
          },
          "metadata": {},
          "execution_count": 155
        }
      ]
    },
    {
      "cell_type": "code",
      "source": [
        "Fuel_Type = cars[\"Fuel_Type\"]\n",
        "cars.drop(\"Fuel_Type\", axis =1, inplace =True)\n",
        "cars = pd.concat([cars, Fuel_lbl, Fuel_Type], axis =1)      #Added Fuel_Type again to let the webserver plot graphs and it will NOT interupt input's defination while training.\n",
        "cars"
      ],
      "metadata": {
        "colab": {
          "base_uri": "https://localhost:8080/",
          "height": 424
        },
        "id": "nK3p2SrBpXGo",
        "outputId": "85a2fb0d-9fd9-432e-f9c3-da77d18b7c69"
      },
      "execution_count": null,
      "outputs": [
        {
          "output_type": "execute_result",
          "data": {
            "text/plain": [
              "            Make      Model        Variant  Ex-Showroom_Price  Length     HP  \\\n",
              "0           Tata  Nano Genx             Xt           292667.0  3164.0   38.0   \n",
              "1           Tata  Nano Genx             Xe           236447.0  3164.0   38.0   \n",
              "2           Tata  Nano Genx        Emax Xm           296661.0  3164.0   38.0   \n",
              "3           Tata  Nano Genx            Xta           334768.0  3164.0   38.0   \n",
              "4           Tata  Nano Genx             Xm           272223.0  3164.0   38.0   \n",
              "...          ...        ...            ...                ...     ...    ...   \n",
              "1271       Honda       City   Vx Mt Diesel          1302000.0  4440.0  222.0   \n",
              "1272       Honda       City   Zx Mt Diesel          1421000.0  4440.0  222.0   \n",
              "1273       Honda       City  Zx Cvt Petrol          1431000.0  4440.0  229.0   \n",
              "1274       Honda       City   V Cvt Petrol          1201000.0  4440.0  229.0   \n",
              "1275  Mitsubishi    Montero         3.2 At          6862560.0  4900.0  222.0   \n",
              "\n",
              "      Fuel Fuel_Type  \n",
              "0        5    Petrol  \n",
              "1        5    Petrol  \n",
              "2        0       CNG  \n",
              "3        5    Petrol  \n",
              "4        5    Petrol  \n",
              "...    ...       ...  \n",
              "1271     2    Diesel  \n",
              "1272     2    Diesel  \n",
              "1273     5    Petrol  \n",
              "1274     5    Petrol  \n",
              "1275     2    Diesel  \n",
              "\n",
              "[1276 rows x 8 columns]"
            ],
            "text/html": [
              "\n",
              "  <div id=\"df-86cf0b16-8a09-40b9-b806-56349494e6e1\">\n",
              "    <div class=\"colab-df-container\">\n",
              "      <div>\n",
              "<style scoped>\n",
              "    .dataframe tbody tr th:only-of-type {\n",
              "        vertical-align: middle;\n",
              "    }\n",
              "\n",
              "    .dataframe tbody tr th {\n",
              "        vertical-align: top;\n",
              "    }\n",
              "\n",
              "    .dataframe thead th {\n",
              "        text-align: right;\n",
              "    }\n",
              "</style>\n",
              "<table border=\"1\" class=\"dataframe\">\n",
              "  <thead>\n",
              "    <tr style=\"text-align: right;\">\n",
              "      <th></th>\n",
              "      <th>Make</th>\n",
              "      <th>Model</th>\n",
              "      <th>Variant</th>\n",
              "      <th>Ex-Showroom_Price</th>\n",
              "      <th>Length</th>\n",
              "      <th>HP</th>\n",
              "      <th>Fuel</th>\n",
              "      <th>Fuel_Type</th>\n",
              "    </tr>\n",
              "  </thead>\n",
              "  <tbody>\n",
              "    <tr>\n",
              "      <th>0</th>\n",
              "      <td>Tata</td>\n",
              "      <td>Nano Genx</td>\n",
              "      <td>Xt</td>\n",
              "      <td>292667.0</td>\n",
              "      <td>3164.0</td>\n",
              "      <td>38.0</td>\n",
              "      <td>5</td>\n",
              "      <td>Petrol</td>\n",
              "    </tr>\n",
              "    <tr>\n",
              "      <th>1</th>\n",
              "      <td>Tata</td>\n",
              "      <td>Nano Genx</td>\n",
              "      <td>Xe</td>\n",
              "      <td>236447.0</td>\n",
              "      <td>3164.0</td>\n",
              "      <td>38.0</td>\n",
              "      <td>5</td>\n",
              "      <td>Petrol</td>\n",
              "    </tr>\n",
              "    <tr>\n",
              "      <th>2</th>\n",
              "      <td>Tata</td>\n",
              "      <td>Nano Genx</td>\n",
              "      <td>Emax Xm</td>\n",
              "      <td>296661.0</td>\n",
              "      <td>3164.0</td>\n",
              "      <td>38.0</td>\n",
              "      <td>0</td>\n",
              "      <td>CNG</td>\n",
              "    </tr>\n",
              "    <tr>\n",
              "      <th>3</th>\n",
              "      <td>Tata</td>\n",
              "      <td>Nano Genx</td>\n",
              "      <td>Xta</td>\n",
              "      <td>334768.0</td>\n",
              "      <td>3164.0</td>\n",
              "      <td>38.0</td>\n",
              "      <td>5</td>\n",
              "      <td>Petrol</td>\n",
              "    </tr>\n",
              "    <tr>\n",
              "      <th>4</th>\n",
              "      <td>Tata</td>\n",
              "      <td>Nano Genx</td>\n",
              "      <td>Xm</td>\n",
              "      <td>272223.0</td>\n",
              "      <td>3164.0</td>\n",
              "      <td>38.0</td>\n",
              "      <td>5</td>\n",
              "      <td>Petrol</td>\n",
              "    </tr>\n",
              "    <tr>\n",
              "      <th>...</th>\n",
              "      <td>...</td>\n",
              "      <td>...</td>\n",
              "      <td>...</td>\n",
              "      <td>...</td>\n",
              "      <td>...</td>\n",
              "      <td>...</td>\n",
              "      <td>...</td>\n",
              "      <td>...</td>\n",
              "    </tr>\n",
              "    <tr>\n",
              "      <th>1271</th>\n",
              "      <td>Honda</td>\n",
              "      <td>City</td>\n",
              "      <td>Vx Mt Diesel</td>\n",
              "      <td>1302000.0</td>\n",
              "      <td>4440.0</td>\n",
              "      <td>222.0</td>\n",
              "      <td>2</td>\n",
              "      <td>Diesel</td>\n",
              "    </tr>\n",
              "    <tr>\n",
              "      <th>1272</th>\n",
              "      <td>Honda</td>\n",
              "      <td>City</td>\n",
              "      <td>Zx Mt Diesel</td>\n",
              "      <td>1421000.0</td>\n",
              "      <td>4440.0</td>\n",
              "      <td>222.0</td>\n",
              "      <td>2</td>\n",
              "      <td>Diesel</td>\n",
              "    </tr>\n",
              "    <tr>\n",
              "      <th>1273</th>\n",
              "      <td>Honda</td>\n",
              "      <td>City</td>\n",
              "      <td>Zx Cvt Petrol</td>\n",
              "      <td>1431000.0</td>\n",
              "      <td>4440.0</td>\n",
              "      <td>229.0</td>\n",
              "      <td>5</td>\n",
              "      <td>Petrol</td>\n",
              "    </tr>\n",
              "    <tr>\n",
              "      <th>1274</th>\n",
              "      <td>Honda</td>\n",
              "      <td>City</td>\n",
              "      <td>V Cvt Petrol</td>\n",
              "      <td>1201000.0</td>\n",
              "      <td>4440.0</td>\n",
              "      <td>229.0</td>\n",
              "      <td>5</td>\n",
              "      <td>Petrol</td>\n",
              "    </tr>\n",
              "    <tr>\n",
              "      <th>1275</th>\n",
              "      <td>Mitsubishi</td>\n",
              "      <td>Montero</td>\n",
              "      <td>3.2 At</td>\n",
              "      <td>6862560.0</td>\n",
              "      <td>4900.0</td>\n",
              "      <td>222.0</td>\n",
              "      <td>2</td>\n",
              "      <td>Diesel</td>\n",
              "    </tr>\n",
              "  </tbody>\n",
              "</table>\n",
              "<p>1276 rows × 8 columns</p>\n",
              "</div>\n",
              "      <button class=\"colab-df-convert\" onclick=\"convertToInteractive('df-86cf0b16-8a09-40b9-b806-56349494e6e1')\"\n",
              "              title=\"Convert this dataframe to an interactive table.\"\n",
              "              style=\"display:none;\">\n",
              "        \n",
              "  <svg xmlns=\"http://www.w3.org/2000/svg\" height=\"24px\"viewBox=\"0 0 24 24\"\n",
              "       width=\"24px\">\n",
              "    <path d=\"M0 0h24v24H0V0z\" fill=\"none\"/>\n",
              "    <path d=\"M18.56 5.44l.94 2.06.94-2.06 2.06-.94-2.06-.94-.94-2.06-.94 2.06-2.06.94zm-11 1L8.5 8.5l.94-2.06 2.06-.94-2.06-.94L8.5 2.5l-.94 2.06-2.06.94zm10 10l.94 2.06.94-2.06 2.06-.94-2.06-.94-.94-2.06-.94 2.06-2.06.94z\"/><path d=\"M17.41 7.96l-1.37-1.37c-.4-.4-.92-.59-1.43-.59-.52 0-1.04.2-1.43.59L10.3 9.45l-7.72 7.72c-.78.78-.78 2.05 0 2.83L4 21.41c.39.39.9.59 1.41.59.51 0 1.02-.2 1.41-.59l7.78-7.78 2.81-2.81c.8-.78.8-2.07 0-2.86zM5.41 20L4 18.59l7.72-7.72 1.47 1.35L5.41 20z\"/>\n",
              "  </svg>\n",
              "      </button>\n",
              "      \n",
              "  <style>\n",
              "    .colab-df-container {\n",
              "      display:flex;\n",
              "      flex-wrap:wrap;\n",
              "      gap: 12px;\n",
              "    }\n",
              "\n",
              "    .colab-df-convert {\n",
              "      background-color: #E8F0FE;\n",
              "      border: none;\n",
              "      border-radius: 50%;\n",
              "      cursor: pointer;\n",
              "      display: none;\n",
              "      fill: #1967D2;\n",
              "      height: 32px;\n",
              "      padding: 0 0 0 0;\n",
              "      width: 32px;\n",
              "    }\n",
              "\n",
              "    .colab-df-convert:hover {\n",
              "      background-color: #E2EBFA;\n",
              "      box-shadow: 0px 1px 2px rgba(60, 64, 67, 0.3), 0px 1px 3px 1px rgba(60, 64, 67, 0.15);\n",
              "      fill: #174EA6;\n",
              "    }\n",
              "\n",
              "    [theme=dark] .colab-df-convert {\n",
              "      background-color: #3B4455;\n",
              "      fill: #D2E3FC;\n",
              "    }\n",
              "\n",
              "    [theme=dark] .colab-df-convert:hover {\n",
              "      background-color: #434B5C;\n",
              "      box-shadow: 0px 1px 3px 1px rgba(0, 0, 0, 0.15);\n",
              "      filter: drop-shadow(0px 1px 2px rgba(0, 0, 0, 0.3));\n",
              "      fill: #FFFFFF;\n",
              "    }\n",
              "  </style>\n",
              "\n",
              "      <script>\n",
              "        const buttonEl =\n",
              "          document.querySelector('#df-86cf0b16-8a09-40b9-b806-56349494e6e1 button.colab-df-convert');\n",
              "        buttonEl.style.display =\n",
              "          google.colab.kernel.accessAllowed ? 'block' : 'none';\n",
              "\n",
              "        async function convertToInteractive(key) {\n",
              "          const element = document.querySelector('#df-86cf0b16-8a09-40b9-b806-56349494e6e1');\n",
              "          const dataTable =\n",
              "            await google.colab.kernel.invokeFunction('convertToInteractive',\n",
              "                                                     [key], {});\n",
              "          if (!dataTable) return;\n",
              "\n",
              "          const docLinkHtml = 'Like what you see? Visit the ' +\n",
              "            '<a target=\"_blank\" href=https://colab.research.google.com/notebooks/data_table.ipynb>data table notebook</a>'\n",
              "            + ' to learn more about interactive tables.';\n",
              "          element.innerHTML = '';\n",
              "          dataTable['output_type'] = 'display_data';\n",
              "          await google.colab.output.renderOutput(dataTable, element);\n",
              "          const docLink = document.createElement('div');\n",
              "          docLink.innerHTML = docLinkHtml;\n",
              "          element.appendChild(docLink);\n",
              "        }\n",
              "      </script>\n",
              "    </div>\n",
              "  </div>\n",
              "  "
            ]
          },
          "metadata": {},
          "execution_count": 156
        }
      ]
    },
    {
      "cell_type": "code",
      "source": [
        "dataset = cars.values\n",
        "\n",
        "x = dataset[:,[3, 4, 5, 6]]           #Fuel_Type is excluded because it's not numeric, label encoded Fuel is being considered instead.\n",
        "y = dataset[:,:3]\n",
        "\n",
        "from sklearn.model_selection import train_test_split\n",
        "\n",
        "X_train, X_test, Y_train, Y_test = train_test_split(x, y, test_size=0.8)\n",
        "\n",
        "print(x)\n",
        "print(\"-------------------\")\n",
        "print(y)"
      ],
      "metadata": {
        "colab": {
          "base_uri": "https://localhost:8080/"
        },
        "id": "ZMjCfEQfpYV2",
        "outputId": "8fbe17c2-3e52-44e7-8b1c-fbb8283aaa1a"
      },
      "execution_count": null,
      "outputs": [
        {
          "output_type": "stream",
          "name": "stdout",
          "text": [
            "[[292667.0 3164.0 38.0 5]\n",
            " [236447.0 3164.0 38.0 5]\n",
            " [296661.0 3164.0 38.0 0]\n",
            " ...\n",
            " [1431000.0 4440.0 229.0 5]\n",
            " [1201000.0 4440.0 229.0 5]\n",
            " [6862560.0 4900.0 222.0 2]]\n",
            "-------------------\n",
            "[['Tata' 'Nano Genx' 'Xt']\n",
            " ['Tata' 'Nano Genx' 'Xe']\n",
            " ['Tata' 'Nano Genx' 'Emax Xm']\n",
            " ...\n",
            " ['Honda' 'City' 'Zx Cvt Petrol']\n",
            " ['Honda' 'City' 'V Cvt Petrol']\n",
            " ['Mitsubishi' 'Montero' '3.2 At']]\n"
          ]
        }
      ]
    },
    {
      "cell_type": "markdown",
      "source": [
        "Defining Classifier"
      ],
      "metadata": {
        "id": "FGOPcvdH-7wl"
      }
    },
    {
      "cell_type": "code",
      "source": [
        "from sklearn.neighbors import KNeighborsClassifier\n",
        "clf = KNeighborsClassifier(n_neighbors =3, metric ='euclidean')"
      ],
      "metadata": {
        "id": "Sr26BGFFpbcL"
      },
      "execution_count": null,
      "outputs": []
    },
    {
      "cell_type": "code",
      "source": [
        "clf.fit(x, y)"
      ],
      "metadata": {
        "colab": {
          "base_uri": "https://localhost:8080/"
        },
        "id": "yYGNgpmmpj94",
        "outputId": "539af70c-36d4-4f8d-ca0b-d0e498be8be6"
      },
      "execution_count": null,
      "outputs": [
        {
          "output_type": "execute_result",
          "data": {
            "text/plain": [
              "KNeighborsClassifier(metric='euclidean', n_neighbors=3)"
            ]
          },
          "metadata": {},
          "execution_count": 159
        }
      ]
    },
    {
      "cell_type": "code",
      "source": [
        "clf.predict([[256000, 3500, 40, 5]])\n",
        "\n",
        "#             [Budget,length,HP,Fuel]   "
      ],
      "metadata": {
        "colab": {
          "base_uri": "https://localhost:8080/"
        },
        "id": "chY6kX2Bpm-D",
        "outputId": "4e2f9faf-9fe5-4a31-bf08-e1c283031c7f"
      },
      "execution_count": null,
      "outputs": [
        {
          "output_type": "execute_result",
          "data": {
            "text/plain": [
              "array([['Tata', 'Nano Genx', 'Qcar']], dtype=object)"
            ]
          },
          "metadata": {},
          "execution_count": 160
        }
      ]
    },
    {
      "cell_type": "code",
      "source": [
        "clf.predict(x)"
      ],
      "metadata": {
        "colab": {
          "base_uri": "https://localhost:8080/"
        },
        "id": "cik4i8vYpni8",
        "outputId": "f0b8cce9-39d6-45f6-f2da-4a630913091f"
      },
      "execution_count": null,
      "outputs": [
        {
          "output_type": "execute_result",
          "data": {
            "text/plain": [
              "array([['Tata', 'Nano Genx', 'Emax Xm'],\n",
              "       ['Tata', 'Nano Genx', 'Qcar'],\n",
              "       ['Maruti Suzuki', 'Alto', 'Emax Xm'],\n",
              "       ...,\n",
              "       ['Honda', 'City', 'Monte Carlo 1.5 Tdi At'],\n",
              "       ['Honda', 'Captur', '1.4 Crdi S'],\n",
              "       ['Bmw', '6-Series', '3.2 At']], dtype=object)"
            ]
          },
          "metadata": {},
          "execution_count": 161
        }
      ]
    },
    {
      "cell_type": "markdown",
      "source": [
        "Exchanging data from webserver with the model and proving result on the web application"
      ],
      "metadata": {
        "id": "yR2kEw4f--CH"
      }
    },
    {
      "cell_type": "code",
      "source": [
        "@anvil.server.callable\n",
        "\n",
        "def exploreCar(budget, length, hp, fuel):\n",
        "  prediction = clf.predict([[budget, length, hp, fuel]])\n",
        "  \n",
        "  return prediction"
      ],
      "metadata": {
        "id": "upTYH67Xpoth"
      },
      "execution_count": null,
      "outputs": []
    }
  ]
}